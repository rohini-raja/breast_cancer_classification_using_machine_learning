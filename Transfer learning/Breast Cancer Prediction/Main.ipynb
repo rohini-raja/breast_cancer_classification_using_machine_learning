{
 "cells": [
  {
   "cell_type": "code",
   "execution_count": 1,
   "metadata": {},
   "outputs": [
    {
     "name": "stderr",
     "output_type": "stream",
     "text": [
      "Using TensorFlow backend.\n"
     ]
    }
   ],
   "source": [
    "import keras"
   ]
  },
  {
   "cell_type": "code",
   "execution_count": 2,
   "metadata": {},
   "outputs": [],
   "source": [
    "from glob import glob \n",
    "from skimage.io import imread\n",
    "import gc\n",
    "\n",
    "from sklearn.utils import shuffle\n",
    "from sklearn.model_selection import train_test_split\n",
    "from keras.utils import to_categorical\n",
    "import shutil\n",
    "\n",
    "\n",
    "import os\n",
    "import pandas as pd\n",
    "import numpy as np\n",
    "import PIL\n",
    "import matplotlib\n",
    "import matplotlib.pyplot as plt\n",
    "from keras.models import load_model,save_model\n",
    "from keras.callbacks import ModelCheckpoint\n",
    "from matplotlib.patches import Rectangle\n",
    "import os\n",
    "from scipy.misc import imsave\n",
    "from tqdm import tqdm\n",
    "\n",
    "import keras\n",
    "\n",
    "from keras.preprocessing.image import ImageDataGenerator, array_to_img, img_to_array, load_img\n",
    "from keras.preprocessing import image\n",
    "from keras.applications import xception\n",
    "from keras.models import Sequential\n",
    "from keras.layers import Conv2D, MaxPooling2D\n",
    "from keras.layers import Activation, Dropout, Flatten, Dense\n",
    "from keras.layers import BatchNormalization\n",
    "from keras.optimizers import SGD, Adam,Adagrad\n",
    "from keras.callbacks import ModelCheckpoint, ReduceLROnPlateau\n",
    "from keras.layers.advanced_activations import LeakyReLU\n",
    "from math import sqrt\n",
    "from keras.callbacks import History \n",
    "from keras.optimizers import Adam, SGD\n",
    "from keras.layers import Activation\n",
    "from keras.callbacks import ModelCheckpoint, ReduceLROnPlateau\n",
    "from keras.layers.advanced_activations import LeakyReLU\n",
    "from keras.preprocessing.image import ImageDataGenerator, array_to_img, img_to_array, load_img\n",
    "from keras.preprocessing import image\n",
    "from keras.applications import xception\n",
    "from keras.models import Sequential\n",
    "from keras.layers import Conv2D, MaxPooling2D, UpSampling2D, merge, GlobalAveragePooling2D, MaxPool2D, GlobalMaxPooling2D\n",
    "from keras.layers import Activation, Dropout, Flatten, Dense,Input, Concatenate\n",
    "from keras.layers import BatchNormalization\n",
    "from keras.models import Model\n",
    "from keras.activations import relu\n",
    "from keras.layers.advanced_activations import LeakyReLU\n",
    "from keras.layers.advanced_activations import ELU\n",
    "import keras.backend as K\n",
    "from math import sqrt\n",
    "from keras.callbacks import History \n",
    "\n",
    "from keras.applications import ResNet50, VGG19, NASNetMobile,DenseNet169\n",
    "import gc\n",
    "import numpy as np # linear algebra\n",
    "import pandas as pd # data processing, CSV file I/O (e.g. pd.read_csv)\n",
    "\n",
    "# Input data files are available in the \"../input/\" directory.\n",
    "# For example, running this (by clicking run or pressing Shift+Enter) will list the files in the input directory\n",
    "\n",
    "import os\n",
    "from glob import glob\n",
    "from random import shuffle\n",
    "import cv2\n",
    "import matplotlib.pyplot as plt\n",
    "from sklearn.model_selection import train_test_split\n",
    "from keras.preprocessing.image import ImageDataGenerator\n",
    "from keras.layers import Convolution1D, concatenate, SpatialDropout1D, GlobalMaxPool1D, GlobalAvgPool1D, Embedding, \\\n",
    "    Conv2D, SeparableConv1D, Add, BatchNormalization, Activation, GlobalAveragePooling2D, LeakyReLU, Flatten\n",
    "from keras.layers import Dense, Input, Dropout, MaxPooling2D, Concatenate, GlobalMaxPooling2D, GlobalAveragePooling2D, \\\n",
    "    Lambda, Multiply, LSTM, Bidirectional, PReLU, MaxPooling1D\n",
    "from keras.layers.pooling import _GlobalPooling1D\n",
    "from keras.losses import mae, sparse_categorical_crossentropy, binary_crossentropy\n",
    "from keras.models import Model\n",
    "# from keras.applications.inception_v3 import InceptionV3, preprocess_input\n",
    "from keras.applications.densenet import DenseNet169, preprocess_input\n",
    "from keras.optimizers import Adam, RMSprop\n",
    "from keras.callbacks import ModelCheckpoint, EarlyStopping, ReduceLROnPlateau\n",
    "from imgaug import augmenters as iaa\n",
    "import imgaug as ia\n",
    "from keras.preprocessing.image import ImageDataGenerator, array_to_img, img_to_array, load_img\n",
    "from keras.preprocessing import image\n",
    "from keras.applications import xception\n",
    "from keras.models import Sequential\n",
    "from keras.layers import Conv2D, MaxPooling2D\n",
    "from keras.layers import Activation, Dropout, Flatten, Dense\n",
    "from keras.layers import BatchNormalization\n",
    "from keras.optimizers import SGD, Adam,Adagrad\n",
    "from keras.callbacks import ModelCheckpoint, ReduceLROnPlateau\n",
    "from keras.layers.advanced_activations import LeakyReLU\n",
    "from math import sqrt\n",
    "from keras.callbacks import History \n",
    "from keras.optimizers import Adam, SGD\n",
    "from keras.layers import Activation\n",
    "from keras.callbacks import ModelCheckpoint, ReduceLROnPlateau\n",
    "from keras.layers.advanced_activations import LeakyReLU\n",
    "from keras.preprocessing.image import ImageDataGenerator, array_to_img, img_to_array, load_img\n",
    "from keras.preprocessing import image\n",
    "from keras.applications import xception\n",
    "from keras.models import Sequential\n",
    "from keras.layers import Conv2D, MaxPooling2D, UpSampling2D, merge, GlobalAveragePooling2D, MaxPool2D\n",
    "from keras.layers import Activation, Dropout, Flatten, Dense,Input\n",
    "from keras.layers import BatchNormalization\n",
    "from keras.models import Model\n",
    "from keras.activations import relu\n",
    "from keras.layers.advanced_activations import LeakyReLU\n",
    "from keras.layers.advanced_activations import ELU\n",
    "import keras.backend as K\n",
    "from math import sqrt\n",
    "from keras.callbacks import History\n",
    "from keras.preprocessing.image import ImageDataGenerator, array_to_img, img_to_array, load_img\n",
    "from keras.preprocessing import image\n",
    "from keras.applications import xception\n",
    "from keras.models import Sequential\n",
    "from keras.layers import Conv2D, MaxPooling2D\n",
    "from keras.layers import Activation, Dropout, Flatten, Dense\n",
    "from keras.layers import BatchNormalization\n",
    "from keras.optimizers import SGD, Adam,Adagrad\n",
    "from keras.callbacks import ModelCheckpoint, ReduceLROnPlateau\n",
    "from keras.layers.advanced_activations import LeakyReLU\n",
    "from math import sqrt\n",
    "from keras.callbacks import History \n",
    "from keras.optimizers import Adam, SGD\n",
    "from keras.layers import Activation\n",
    "from keras.callbacks import ModelCheckpoint, ReduceLROnPlateau, LearningRateScheduler\n",
    "from keras.layers.advanced_activations import LeakyReLU\n",
    "from keras.preprocessing.image import ImageDataGenerator, array_to_img, img_to_array, load_img\n",
    "from keras.preprocessing import image\n",
    "from keras.applications import xception\n",
    "from keras.models import Sequential\n",
    "from keras.layers import Conv2D, MaxPooling2D, UpSampling2D, merge, GlobalAveragePooling2D, MaxPool2D, GlobalMaxPooling2D\n",
    "from keras.layers import Activation, Dropout, Flatten, Dense,Input, Concatenate\n",
    "from keras.layers import BatchNormalization\n",
    "from keras.models import Model\n",
    "from keras.activations import relu\n",
    "from keras.layers.advanced_activations import LeakyReLU\n",
    "from keras.layers.advanced_activations import ELU\n",
    "import keras.backend as K\n",
    "from math import sqrt\n",
    "from keras.callbacks import History \n",
    "\n",
    "from keras.applications import ResNet50, VGG19, NASNetMobile,DenseNet169\n",
    "import gc\n",
    "\n",
    "import pandas as pd\n",
    "import numpy as np\n",
    "import math\n",
    "from glob import glob\n",
    "import os\n",
    "from scipy.misc import imread"
   ]
  },
  {
   "cell_type": "code",
   "execution_count": 3,
   "metadata": {},
   "outputs": [
    {
     "name": "stderr",
     "output_type": "stream",
     "text": [
      "/home/santhosr/.local/lib/python2.7/site-packages/keras/callbacks.py:1065: UserWarning: `epsilon` argument is deprecated and will be removed, use `min_delta` instead.\n",
      "  warnings.warn('`epsilon` argument is deprecated and '\n",
      "/home/santhosr/.local/lib/python2.7/site-packages/keras/callbacks.py:407: RuntimeWarning: ModelCheckpoint mode <built-in function min> is unknown, fallback to auto mode.\n",
      "  RuntimeWarning)\n"
     ]
    },
    {
     "name": "stdout",
     "output_type": "stream",
     "text": [
      "Found 198021 images belonging to 2 classes.\n",
      "Found 22002 images belonging to 2 classes.\n"
     ]
    }
   ],
   "source": [
    "trainPath = '/home/Documents/Courses/CancerTissue/train'\n",
    "df = pd.read_csv(\"/home/Documents/Courses/CancerTissue/train_labels.csv\")\n",
    "\n",
    "df = df[df['id'] != 'dd6dfed324f9fcb6f93f46f32fc800f2ec196be2']\n",
    "df = df[df['id'] != '9369c7278ec8bcc6c880d99194de09fc2bd4efbe']\n",
    "\n",
    "def read_img(filepath, size,grayscale=False):\n",
    "    \n",
    "    if grayscale:\n",
    "        img = image.load_img((filepath), target_size=size,grayscale=True)\n",
    "        img = image.img_to_array(img,data_format='channels_last')\n",
    "    else:\n",
    "        img = image.load_img((filepath), target_size=size)\n",
    "        img = image.img_to_array(img,data_format='channels_last')\n",
    "    return img\n",
    "\n",
    "\n",
    "lr_reduce = ReduceLROnPlateau(monitor='val_loss', factor=0.1, epsilon=1e-5, patience=3, verbose=1)\n",
    "\n",
    "modelID=0\n",
    "checkPoint = ModelCheckpoint(filepath='./model_densenet_{epoch:02d}_{val_loss:.4f}_{val_acc:4f}.hdf5',verbose=1,save_best_only=True,mode=min)\n",
    "bestCheckPoint = ModelCheckpoint(filepath='./bestModel.hdf5',verbose=0,save_best_only=True,mode=min)\n",
    "\n",
    "datagen = ImageDataGenerator(preprocessing_function=lambda x:(x - x.mean()) / x.std() if x.std() > 0 else x,\n",
    "                            horizontal_flip=True,\n",
    "                            vertical_flip=True,\n",
    "                            validation_split=0.1)\n",
    "                            \n",
    "trainGen=datagen.flow_from_dataframe(df, trainPath, x_col='id',y_col='label',has_ext=False,target_size=(96,96),subset='training', class_mode='binary',shuffle=True)\n",
    "valGen = datagen.flow_from_dataframe(df, trainPath, x_col='id',y_col='label',has_ext=False,target_size=(96,96),subset='validation', class_mode='binary',shuffle=True)\n",
    "\n",
    "def conv_layer(feature_batch, feature_map, kernel_size=(3, 3),strides=(1,1), zp_flag=False):\n",
    "    if zp_flag:\n",
    "        zp = ZeroPadding2D((1,1))(feature_batch)\n",
    "    else:\n",
    "        zp = feature_batch\n",
    "    conv = Conv2D(filters=feature_map, kernel_size=kernel_size, strides=strides)(zp)\n",
    "    bn = BatchNormalization(axis=3)(conv)\n",
    "    act = LeakyReLU(1/10)(bn)\n",
    "    return act\n",
    "    \n",
    "    \n",
    "\n"
   ]
  },
  {
   "cell_type": "code",
   "execution_count": 40,
   "metadata": {},
   "outputs": [],
   "source": [
    "df_train = pd.read_csv(\"/home/Documents/Courses/CancerTissue/train_labels.csv\")\n",
    "id_label_map = {k:v for k,v in zip(df_train.id.values, df_train.label.values)}\n",
    "df_train.head()\n",
    "\n",
    "\n",
    "def get_id_from_file_path(file_path):\n",
    "    return file_path.split(os.path.sep)[-1].replace('.tif', '')\n",
    "    \n",
    "labeled_files = glob('/home/Documents/Courses/CancerTissue/train/*.tif')\n",
    "test_files = glob('/home/Documents/Courses/CancerTissue/test/*.tif')\n",
    "\n",
    "train, val = train_test_split(labeled_files, test_size=0.1)\n",
    "val, test = train_test_split(val, test_size=0.5)\n",
    "\n",
    "def chunker(seq, size):\n",
    "    return (seq[pos:pos + size] for pos in range(0, len(seq), size))\n",
    "def get_seq():\n",
    "    sometimes = lambda aug: iaa.Sometimes(0.5, aug)\n",
    "    seq = iaa.Sequential(\n",
    "        [\n",
    "            \n",
    "            iaa.Fliplr(0.5), \n",
    "            iaa.Flipud(0.2), \n",
    "            sometimes(iaa.Affine(\n",
    "                scale={\"x\": (0.9, 1.1), \"y\": (0.9, 1.1)}, \n",
    "                translate_percent={\"x\": (-0.1, 0.1), \"y\": (-0.1, 0.1)}, \n",
    "                rotate=(-10, 10),\n",
    "                shear=(-5, 5),\n",
    "                order=[0, 1], \n",
    "                cval=(0, 255), \n",
    "                mode=ia.ALL \n",
    "            )),\n",
    "            iaa.SomeOf((0, 5),\n",
    "                [\n",
    "                    sometimes(iaa.Superpixels(p_replace=(0, 1.0), n_segments=(20, 200))), \n",
    "                    iaa.OneOf([\n",
    "                        iaa.GaussianBlur((0, 1.0)), \n",
    "                        iaa.AverageBlur(k=(3, 5)), \n",
    "                        iaa.MedianBlur(k=(3, 5)), \n",
    "                    ]),\n",
    "                    iaa.Sharpen(alpha=(0, 1.0), lightness=(0.9, 1.1)), \n",
    "                    iaa.Emboss(alpha=(0, 1.0), strength=(0, 2.0)), \n",
    "                  \n",
    "                    iaa.SimplexNoiseAlpha(iaa.OneOf([\n",
    "                        iaa.EdgeDetect(alpha=(0.5, 1.0)),\n",
    "                        iaa.DirectedEdgeDetect(alpha=(0.5, 1.0), direction=(0.0, 1.0)),\n",
    "                    ])),\n",
    "                    iaa.AdditiveGaussianNoise(loc=0, scale=(0.0, 0.01*255), per_channel=0.5), \n",
    "                    iaa.OneOf([\n",
    "                        iaa.Dropout((0.01, 0.05), per_channel=0.5), \n",
    "                        iaa.CoarseDropout((0.01, 0.03), size_percent=(0.01, 0.02), per_channel=0.2),\n",
    "                    ]),\n",
    "                    iaa.Invert(0.01, per_channel=True), \n",
    "                    iaa.Add((-2, 2), per_channel=0.5), \n",
    "                    iaa.AddToHueAndSaturation((-1, 1)), \n",
    "                    iaa.OneOf([\n",
    "                        iaa.Multiply((0.9, 1.1), per_channel=0.5),\n",
    "                        iaa.FrequencyNoiseAlpha(\n",
    "                            exponent=(-1, 0),\n",
    "                            first=iaa.Multiply((0.9, 1.1), per_channel=True),\n",
    "                            second=iaa.ContrastNormalization((0.9, 1.1))\n",
    "                        )\n",
    "                    ]),\n",
    "                    sometimes(iaa.ElasticTransformation(alpha=(0.5, 3.5), sigma=0.25)), \n",
    "                    sometimes(iaa.PiecewiseAffine(scale=(0.01, 0.05))), \n",
    "                    sometimes(iaa.PerspectiveTransform(scale=(0.01, 0.1)))\n",
    "                ],\n",
    "                random_order=True\n",
    "            )\n",
    "        ],\n",
    "        random_order=True\n",
    "    )\n",
    "    return seq\n",
    "\n",
    "def data_gen(list_files, id_label_map, batch_size, augment=False):\n",
    "    seq = get_seq()\n",
    "    while True:\n",
    "        shuffle(list_files)\n",
    "        for batch in chunker(list_files, batch_size):\n",
    "            X = [cv2.imread(x) for x in batch]\n",
    "            Y = [id_label_map[get_id_from_file_path(x)] for x in batch]\n",
    "            if augment:\n",
    "                X = seq.augment_images(X)\n",
    "            X = np.array([preprocess_input(x) for x in X])\n",
    "            print(X.shape)\n",
    "#             X  = X[:,32:64,32:64,:]\n",
    "                \n",
    "            yield np.array(X), np.array(Y)\n",
    "            \n",
    "    "
   ]
  },
  {
   "cell_type": "code",
   "execution_count": 5,
   "metadata": {},
   "outputs": [],
   "source": [
    "lr_reduce = ReduceLROnPlateau(monitor='val_loss', factor=0.1, epsilon=1e-5, patience=3, verbose=1)\n",
    "\n",
    "modelID=0\n",
    "checkPoint = ModelCheckpoint(filepath='./model_densenet_{epoch:02d}_{val_loss:.4f}_{val_acc:4f}.hdf5',verbose=1,save_best_only=False,mode=min)\n",
    "bestCheckPoint = ModelCheckpoint(filepath='./bestModel.hdf5',verbose=0,save_best_only=True,mode=min)\n",
    "\n",
    "datagen = ImageDataGenerator(preprocessing_function=lambda x:(x - x.mean()) / x.std() if x.std() > 0 else x,\n",
    "                            horizontal_flip=True,\n",
    "                            vertical_flip=True,\n",
    "                            validation_split=0.1)\n",
    "                            \n",
    "def conv_layer(feature_batch, feature_map, kernel_size=(3, 3),strides=(1,1), zp_flag=False):\n",
    "    if zp_flag:\n",
    "        zp = ZeroPadding2D((1,1))(feature_batch)\n",
    "    else:\n",
    "        zp = feature_batch\n",
    "    conv = Conv2D(filters=feature_map, kernel_size=kernel_size, strides=strides)(zp)\n",
    "    bn = BatchNormalization(axis=3)(conv)\n",
    "    act = LeakyReLU(1/10)(bn)\n",
    "    return act"
   ]
  },
  {
   "cell_type": "code",
   "execution_count": 6,
   "metadata": {},
   "outputs": [],
   "source": [
    "model = DenseNet169(include_top = False, input_shape=(96,96,3))"
   ]
  },
  {
   "cell_type": "code",
   "execution_count": 7,
   "metadata": {},
   "outputs": [],
   "source": [
    "x = model.output\n",
    "\n",
    "out1 = GlobalMaxPooling2D()(x)\n",
    "out2 = GlobalAveragePooling2D()(x)\n",
    "out3 = Flatten()(x)\n",
    "out = Concatenate(axis=-1)([out1, out2, out3])\n",
    "out = Dropout(0.4)(out)\n",
    "out = Dense(256, activation=\"relu\")(out)\n",
    "predictions = Dense(1, activation=\"sigmoid\")(out)"
   ]
  },
  {
   "cell_type": "code",
   "execution_count": 8,
   "metadata": {},
   "outputs": [],
   "source": [
    "fullModel = Model(inputs=model.input, outputs=predictions)\n",
    "\n",
    "adam = Adam(lr=0.00001)\n",
    "\n",
    "fullModel.compile(loss=\"binary_crossentropy\", optimizer=adam, metrics=[\"accuracy\"])\n"
   ]
  },
  {
   "cell_type": "code",
   "execution_count": 33,
   "metadata": {
    "collapsed": true
   },
   "outputs": [
    {
     "name": "stdout",
     "output_type": "stream",
     "text": [
      "Epoch 1/2\n",
      "(32, 96, 96, 3)\n",
      "(32, 96, 96, 3)\n",
      "(32, 96, 96, 3)\n",
      "(32, 96, 96, 3)\n",
      "(32, 96, 96, 3)\n",
      "(32, 96, 96, 3)\n",
      "(32, 96, 96, 3)\n",
      "(32, 96, 96, 3)\n",
      "(32, 96, 96, 3)\n",
      "(32, 96, 96, 3)\n",
      "(32, 96, 96, 3)\n",
      "(32, 96, 96, 3)\n",
      "(32, 96, 96, 3)\n",
      "(32, 96, 96, 3)\n",
      "(32, 96, 96, 3)\n",
      "(32, 96, 96, 3)\n",
      "(32, 96, 96, 3)\n",
      "(32, 96, 96, 3)\n",
      "(32, 96, 96, 3)\n",
      "(32, 96, 96, 3)\n",
      "(32, 96, 96, 3)\n",
      "(32, 96, 96, 3)\n",
      "(32, 96, 96, 3)\n",
      " 1/20 [>.............................] - ETA: 13:48 - loss: 0.9278 - acc: 0.5000(32, 96, 96, 3)\n",
      " 3/20 [===>..........................] - ETA: 4:08 - loss: 0.8596 - acc: 0.5104(32, 96, 96, 3)\n",
      " 4/20 [=====>........................] - ETA: 2:55 - loss: 0.8484 - acc: 0.4922(32, 96, 96, 3)\n",
      " 5/20 [======>.......................] - ETA: 2:12 - loss: 0.8444 - acc: 0.4813(32, 96, 96, 3)\n",
      " 6/20 [========>.....................] - ETA: 1:43 - loss: 0.8258 - acc: 0.4948(32, 96, 96, 3)\n",
      " 7/20 [=========>....................] - ETA: 1:22 - loss: 0.8293 - acc: 0.5000(32, 96, 96, 3)\n",
      " 8/20 [===========>..................] - ETA: 1:06 - loss: 0.8334 - acc: 0.5039(32, 96, 96, 3)\n",
      " 9/20 [============>.................] - ETA: 54s - loss: 0.8247 - acc: 0.5035 (32, 96, 96, 3)\n",
      "11/20 [===============>..............] - ETA: 36s - loss: 0.8126 - acc: 0.5114(32, 96, 96, 3)\n",
      "12/20 [=================>............] - ETA: 30s - loss: 0.8145 - acc: 0.5078(32, 96, 96, 3)\n",
      "14/20 [====================>.........] - ETA: 19s - loss: 0.7943 - acc: 0.5112(32, 96, 96, 3)\n",
      "15/20 [=====================>........] - ETA: 15s - loss: 0.7891 - acc: 0.5125(32, 96, 96, 3)\n",
      "16/20 [=======================>......] - ETA: 11s - loss: 0.8011 - acc: 0.5039(32, 96, 96, 3)\n",
      "17/20 [========================>.....] - ETA: 8s - loss: 0.7995 - acc: 0.5037 (32, 96, 96, 3)\n",
      "18/20 [==========================>...] - ETA: 5s - loss: 0.7979 - acc: 0.5000(32, 96, 96, 3)\n",
      "19/20 [===========================>..] - ETA: 2s - loss: 0.7961 - acc: 0.5033(32, 96, 96, 3)\n",
      "(32, 96, 96, 3)\n",
      "(32, 96, 96, 3)\n",
      "(32, 96, 96, 3)\n",
      "(32, 96, 96, 3)\n",
      "(32, 96, 96, 3)\n",
      "(32, 96, 96, 3)\n",
      "(32, 96, 96, 3)\n",
      "(32, 96, 96, 3)\n",
      "(32, 96, 96, 3)\n",
      "(32, 96, 96, 3)\n",
      "(32, 96, 96, 3)\n",
      "(32, 96, 96, 3)\n",
      "(32, 96, 96, 3)\n",
      "(32, 96, 96, 3)\n",
      "(32, 96, 96, 3)\n",
      "(32, 96, 96, 3)\n",
      "(32, 96, 96, 3)\n",
      "(32, 96, 96, 3)\n",
      "(32, 96, 96, 3)\n",
      "(32, 96, 96, 3)\n",
      "(32, 96, 96, 3)\n",
      "(32, 96, 96, 3)\n",
      "(32, 96, 96, 3)\n",
      "20/20 [==============================] - 49s 2s/step - loss: 0.7880 - acc: 0.5109 - val_loss: 0.6764 - val_acc: 0.5922\n",
      "\n",
      "Epoch 00001: val_acc improved from -inf to 0.59219, saving model to model.h5\n",
      "\n",
      "Epoch 00001: saving model to ./model_densenet_01_0.6764_0.592187.hdf5\n",
      "Epoch 2/2\n",
      " 1/20 [>.............................] - ETA: 2s - loss: 0.7333 - acc: 0.5000(32, 96, 96, 3)\n",
      " 2/20 [==>...........................] - ETA: 2s - loss: 0.6830 - acc: 0.5312(32, 96, 96, 3)\n",
      " 3/20 [===>..........................] - ETA: 2s - loss: 0.6813 - acc: 0.5729(32, 96, 96, 3)\n",
      " 5/20 [======>.......................] - ETA: 1s - loss: 0.7094 - acc: 0.5375(32, 96, 96, 3)\n",
      " 6/20 [========>.....................] - ETA: 1s - loss: 0.7143 - acc: 0.5312(32, 96, 96, 3)\n",
      " 8/20 [===========>..................] - ETA: 1s - loss: 0.7247 - acc: 0.5547(32, 96, 96, 3)\n",
      "(32, 96, 96, 3)\n",
      " 9/20 [============>.................] - ETA: 1s - loss: 0.7303 - acc: 0.5486(32, 96, 96, 3)\n",
      "10/20 [==============>...............] - ETA: 1s - loss: 0.7294 - acc: 0.5437(32, 96, 96, 3)\n",
      "12/20 [=================>............] - ETA: 1s - loss: 0.7232 - acc: 0.5521(32, 96, 96, 3)\n",
      "13/20 [==================>...........] - ETA: 0s - loss: 0.7365 - acc: 0.5505(32, 96, 96, 3)\n",
      "14/20 [====================>.........] - ETA: 0s - loss: 0.7359 - acc: 0.5536(32, 96, 96, 3)\n",
      "15/20 [=====================>........] - ETA: 0s - loss: 0.7310 - acc: 0.5542(32, 96, 96, 3)\n",
      "16/20 [=======================>......] - ETA: 0s - loss: 0.7237 - acc: 0.5625(32, 96, 96, 3)\n",
      "18/20 [==========================>...] - ETA: 0s - loss: 0.7176 - acc: 0.5729(32, 96, 96, 3)\n",
      "19/20 [===========================>..] - ETA: 0s - loss: 0.7103 - acc: 0.5789(32, 96, 96, 3)\n",
      "(32, 96, 96, 3)\n",
      "(32, 96, 96, 3)\n",
      "(32, 96, 96, 3)\n",
      "(32, 96, 96, 3)\n",
      "(32, 96, 96, 3)\n",
      "(32, 96, 96, 3)\n",
      "(32, 96, 96, 3)\n",
      "(32, 96, 96, 3)\n",
      "(32, 96, 96, 3)\n",
      "(32, 96, 96, 3)\n",
      "(32, 96, 96, 3)\n",
      "(32, 96, 96, 3)\n",
      "(32, 96, 96, 3)\n",
      "(32, 96, 96, 3)\n",
      "(32, 96, 96, 3)\n",
      "(32, 96, 96, 3)\n",
      "(32, 96, 96, 3)\n",
      "(32, 96, 96, 3)\n",
      "(32, 96, 96, 3)\n",
      "(32, 96, 96, 3)\n",
      "(32, 96, 96, 3)\n",
      "20/20 [==============================] - 3s 166ms/step - loss: 0.7113 - acc: 0.5719 - val_loss: 0.6772 - val_acc: 0.5797\n",
      "\n",
      "Epoch 00002: val_acc did not improve from 0.59219\n",
      "\n",
      "Epoch 00002: saving model to ./model_densenet_02_0.6772_0.579688.hdf5\n",
      "(32, 96, 96, 3)\n",
      "(32, 96, 96, 3)\n",
      "Epoch 1/2\n",
      "(64, 96, 96, 3)\n",
      "(64, 96, 96, 3)\n",
      "(64, 96, 96, 3)\n",
      "(64, 96, 96, 3)\n",
      "(64, 96, 96, 3)\n",
      "(64, 96, 96, 3)\n",
      "(32, 96, 96, 3)\n",
      "(64, 96, 96, 3)\n",
      "(64, 96, 96, 3)\n",
      "(64, 96, 96, 3)\n",
      "(64, 96, 96, 3)\n",
      "(64, 96, 96, 3)\n",
      "(64, 96, 96, 3)\n",
      "(64, 96, 96, 3)\n",
      "(64, 96, 96, 3)\n",
      " 2/20 [==>...........................] - ETA: 14s - loss: 0.6888 - acc: 0.6172(64, 96, 96, 3)\n",
      " 4/20 [=====>........................] - ETA: 7s - loss: 0.6858 - acc: 0.6016(64, 96, 96, 3)\n",
      " 5/20 [======>.......................] - ETA: 6s - loss: 0.6922 - acc: 0.6000(64, 96, 96, 3)\n",
      " 6/20 [========>.....................] - ETA: 5s - loss: 0.6848 - acc: 0.6042(64, 96, 96, 3)\n",
      " 7/20 [=========>....................] - ETA: 5s - loss: 0.7081 - acc: 0.5893(64, 96, 96, 3)\n",
      " 8/20 [===========>..................] - ETA: 4s - loss: 0.7226 - acc: 0.5742(64, 96, 96, 3)\n",
      " 9/20 [============>.................] - ETA: 4s - loss: 0.7154 - acc: 0.5868(64, 96, 96, 3)\n",
      "10/20 [==============>...............] - ETA: 3s - loss: 0.7079 - acc: 0.5859(64, 96, 96, 3)\n",
      "11/20 [===============>..............] - ETA: 3s - loss: 0.7074 - acc: 0.5838(64, 96, 96, 3)\n",
      "12/20 [=================>............] - ETA: 2s - loss: 0.7031 - acc: 0.5898(64, 96, 96, 3)\n",
      "13/20 [==================>...........] - ETA: 2s - loss: 0.7068 - acc: 0.5841(64, 96, 96, 3)\n",
      "14/20 [====================>.........] - ETA: 2s - loss: 0.7045 - acc: 0.5871(64, 96, 96, 3)\n",
      "15/20 [=====================>........] - ETA: 1s - loss: 0.7023 - acc: 0.5865(64, 96, 96, 3)\n",
      "16/20 [=======================>......] - ETA: 1s - loss: 0.7013 - acc: 0.5869(64, 96, 96, 3)\n",
      "17/20 [========================>.....] - ETA: 1s - loss: 0.6981 - acc: 0.5892(64, 96, 96, 3)\n",
      "18/20 [==========================>...] - ETA: 0s - loss: 0.7035 - acc: 0.5868(64, 96, 96, 3)\n",
      "19/20 [===========================>..] - ETA: 0s - loss: 0.7007 - acc: 0.5888(64, 96, 96, 3)\n",
      "(64, 96, 96, 3)\n",
      "(64, 96, 96, 3)\n",
      "(64, 96, 96, 3)\n",
      "(64, 96, 96, 3)\n",
      "(64, 96, 96, 3)\n",
      "(64, 96, 96, 3)\n",
      "(64, 96, 96, 3)\n",
      "20/20 [==============================] - 7s 345ms/step - loss: 0.7000 - acc: 0.5883 - val_loss: 0.6570 - val_acc: 0.6078\n",
      "\n",
      "Epoch 00001: val_acc improved from 0.59219 to 0.60781, saving model to model.h5\n",
      "(64, 96, 96, 3)\n",
      "(64, 96, 96, 3)\n",
      "(64, 96, 96, 3)\n",
      "(64, 96, 96, 3)\n",
      "\n",
      "Epoch 00001: saving model to ./model_densenet_01_0.6570_0.607812.hdf5\n",
      "(64, 96, 96, 3)\n",
      "Epoch 2/2\n",
      "(64, 96, 96, 3)\n",
      " 3/20 [===>..........................] - ETA: 2s - loss: 0.6646 - acc: 0.6354(64, 96, 96, 3)\n",
      " 4/20 [=====>........................] - ETA: 2s - loss: 0.6567 - acc: 0.6211(64, 96, 96, 3)\n",
      " 5/20 [======>.......................] - ETA: 2s - loss: 0.6689 - acc: 0.6219(64, 96, 96, 3)\n",
      " 6/20 [========>.....................] - ETA: 2s - loss: 0.6760 - acc: 0.6354(64, 96, 96, 3)\n",
      " 7/20 [=========>....................] - ETA: 2s - loss: 0.6909 - acc: 0.6116(64, 96, 96, 3)\n",
      " 8/20 [===========>..................] - ETA: 2s - loss: 0.7063 - acc: 0.5938(64, 96, 96, 3)\n",
      " 9/20 [============>.................] - ETA: 2s - loss: 0.7123 - acc: 0.5851(64, 96, 96, 3)\n",
      "10/20 [==============>...............] - ETA: 2s - loss: 0.7166 - acc: 0.5813(64, 96, 96, 3)\n",
      "11/20 [===============>..............] - ETA: 2s - loss: 0.7235 - acc: 0.5767(64, 96, 96, 3)\n",
      "12/20 [=================>............] - ETA: 1s - loss: 0.7233 - acc: 0.5742(64, 96, 96, 3)\n",
      "13/20 [==================>...........] - ETA: 1s - loss: 0.7230 - acc: 0.5769(64, 96, 96, 3)\n",
      "14/20 [====================>.........] - ETA: 1s - loss: 0.7298 - acc: 0.5770(64, 96, 96, 3)\n",
      "15/20 [=====================>........] - ETA: 1s - loss: 0.7287 - acc: 0.5729(64, 96, 96, 3)\n",
      "16/20 [=======================>......] - ETA: 1s - loss: 0.7283 - acc: 0.5723(64, 96, 96, 3)\n",
      "17/20 [========================>.....] - ETA: 0s - loss: 0.7255 - acc: 0.5735(64, 96, 96, 3)\n",
      "18/20 [==========================>...] - ETA: 0s - loss: 0.7227 - acc: 0.5747(64, 96, 96, 3)\n",
      "19/20 [===========================>..] - ETA: 0s - loss: 0.7257 - acc: 0.5658(64, 96, 96, 3)\n",
      "(64, 96, 96, 3)\n",
      "(64, 96, 96, 3)\n",
      "(64, 96, 96, 3)\n",
      "(64, 96, 96, 3)\n",
      "(64, 96, 96, 3)\n",
      "(64, 96, 96, 3)\n",
      "(64, 96, 96, 3)\n",
      "(64, 96, 96, 3)\n",
      "20/20 [==============================] - 6s 292ms/step - loss: 0.7237 - acc: 0.5687 - val_loss: 0.6446 - val_acc: 0.6391\n",
      "\n",
      "Epoch 00002: val_acc improved from 0.60781 to 0.63906, saving model to model.h5\n",
      "(64, 96, 96, 3)\n",
      "(64, 96, 96, 3)\n",
      "(64, 96, 96, 3)\n",
      "(64, 96, 96, 3)\n",
      "\n",
      "Epoch 00002: saving model to ./model_densenet_02_0.6446_0.639062.hdf5\n",
      "(64, 96, 96, 3)\n",
      "(64, 96, 96, 3)\n"
     ]
    }
   ],
   "source": [
    "### TRAINING\n",
    "\n",
    "batch_size=64\n",
    "h5_path = \"model.h5\"\n",
    "checkpoint = ModelCheckpoint(h5_path, monitor='val_acc', verbose=1, save_best_only=True, mode='max')\n",
    "\n",
    "history = fullModel.fit_generator(\n",
    "    data_gen(train, id_label_map, batch_size, augment=True),\n",
    "    validation_data=data_gen(val, id_label_map, batch_size),\n",
    "    epochs=2, verbose=1,\n",
    "    callbacks=[checkpoint, lr_reduce, bestCheckPoint,checkPoint],\n",
    "    steps_per_epoch=2000,\n",
    "    validation_steps=200)\n",
    "\n",
    "\n"
   ]
  },
  {
   "cell_type": "code",
   "execution_count": 25,
   "metadata": {},
   "outputs": [
    {
     "data": {
      "image/png": "[encoded data removed]",
      "text/plain": [
       "<Figure size 432x288 with 1 Axes>"
      ]
     },
     "metadata": {
      "needs_background": "light"
     },
     "output_type": "display_data"
    }
   ],
   "source": [
    "plt.plot(history.history['acc'] + history1.history['acc'])\n",
    "plt.plot(history.history['val_acc'] + history1.history['val_acc'])\n",
    "plt.title('Model accuracy')\n",
    "plt.ylabel('Accuracy')\n",
    "plt.xlabel('Epoch')\n",
    "plt.legend(['Train', 'Test'], loc='upper left')\n",
    "\n",
    "\n",
    "plt.savefig(\"acc.jpg\")\n",
    "\n",
    "plt.clf()\n",
    "plt.close()\n",
    "\n",
    "plt.plot(history.history['loss']+ history1.history['loss'])\n",
    "plt.plot(history.history['val_loss']+ history1.history['val_loss'])\n",
    "plt.title('Model loss')\n",
    "plt.ylabel('Loss')\n",
    "plt.xlabel('Epoch')\n",
    "plt.legend(['Train', 'Test'], loc='upper left')\n",
    "\n",
    "\n",
    "plt.savefig(\"loss.jpg\")"
   ]
  },
  {
   "cell_type": "code",
   "execution_count": 22,
   "metadata": {},
   "outputs": [
    {
     "data": {
      "text/plain": [
       "'/home/santhosr/Documents/Courses/CancerTissue/Keras'"
      ]
     },
     "execution_count": 22,
     "metadata": {},
     "output_type": "execute_result"
    }
   ],
   "source": [
    "import os\n",
    "os.getcwd()"
   ]
  },
  {
   "cell_type": "code",
   "execution_count": null,
   "metadata": {},
   "outputs": [],
   "source": []
  },
  {
   "cell_type": "code",
   "execution_count": 20,
   "metadata": {},
   "outputs": [
    {
     "data": {
      "image/png": "[encoded data removed]",
      "text/plain": [
       "<Figure size 432x288 with 1 Axes>"
      ]
     },
     "metadata": {
      "needs_background": "light"
     },
     "output_type": "display_data"
    }
   ],
   "source": [
    "plt.plot(history.history['loss'])\n",
    "plt.plot(history.history['val_loss'])\n",
    "plt.title('Model loss')\n",
    "plt.ylabel('Loss')\n",
    "plt.xlabel('Epoch')\n",
    "plt.legend(['Train', 'Test'], loc='upper left')\n",
    "plt.show()"
   ]
  },
  {
   "cell_type": "code",
   "execution_count": null,
   "metadata": {},
   "outputs": [],
   "source": []
  },
  {
   "cell_type": "markdown",
   "metadata": {},
   "source": [
    "### Testing"
   ]
  },
  {
   "cell_type": "code",
   "execution_count": 103,
   "metadata": {},
   "outputs": [],
   "source": [
    "model = fullModel.load_weights('/home/Documents/Courses/CancerTissue/Keras/97/densenetImgaug/model_densenet_18_0.0816_0.972757.hdf5')"
   ]
  },
  {
   "cell_type": "code",
   "execution_count": null,
   "metadata": {},
   "outputs": [],
   "source": []
  },
  {
   "cell_type": "code",
   "execution_count": 104,
   "metadata": {},
   "outputs": [],
   "source": [
    "def data_gen2(list_files, id_label_map, batch_size, augment=False):\n",
    "    seq = get_seq()\n",
    "    while True:\n",
    "#         shuffle(list_files)\n",
    "        for batch in chunker(list_files, batch_size):\n",
    "            \n",
    "            X = [cv2.imread(x) for x in batch]\n",
    "            Y = [id_label_map[get_id_from_file_path(x)] for x in batch]\n",
    "            if augment:\n",
    "                X = seq.augment_images(X)\n",
    "            X = np.array([preprocess_input(x) for x in X])\n",
    "            \n",
    "#             X  = X[:,32:64,32:64,:]\n",
    "                \n",
    "            return np.array(X), np.array(Y)"
   ]
  },
  {
   "cell_type": "code",
   "execution_count": 105,
   "metadata": {},
   "outputs": [
    {
     "name": "stderr",
     "output_type": "stream",
     "text": [
      "100%|██████████| 221/221 [00:16<00:00, 13.53it/s]\n"
     ]
    }
   ],
   "source": [
    "predList = []\n",
    "labelList = []\n",
    "for i in tqdm(range(0,len(test),50)):\n",
    "    fileName = test[i:(i+50)]\n",
    "    \n",
    "    x,y = data_gen2(fileName, id_label_map, batch_size=50, augment = False)\n",
    "    pred = fullModel.predict(x)\n",
    "    \n",
    "    predList.append(pred)\n",
    "    labelList.append(y)\n"
   ]
  },
  {
   "cell_type": "code",
   "execution_count": 106,
   "metadata": {},
   "outputs": [],
   "source": [
    "predList = np.concatenate(predList,axis=0).reshape(-1)"
   ]
  },
  {
   "cell_type": "code",
   "execution_count": 107,
   "metadata": {},
   "outputs": [],
   "source": [
    "labelList = np.concatenate(labelList,axis=0).reshape(-1)"
   ]
  },
  {
   "cell_type": "code",
   "execution_count": 108,
   "metadata": {},
   "outputs": [],
   "source": [
    "ind = predList>=0.5\n",
    "\n",
    "predListAcc = np.zeros(predList.shape)\n",
    "predListAcc[ind] = 1.0"
   ]
  },
  {
   "cell_type": "code",
   "execution_count": 109,
   "metadata": {},
   "outputs": [],
   "source": [
    "from sklearn.metrics import accuracy_score, roc_auc_score, f1_score,confusion_matrix\n"
   ]
  },
  {
   "cell_type": "code",
   "execution_count": 110,
   "metadata": {},
   "outputs": [
    {
     "data": {
      "text/plain": [
       "0.994205883040405"
      ]
     },
     "execution_count": 110,
     "metadata": {},
     "output_type": "execute_result"
    }
   ],
   "source": [
    "roc_auc_score(y_score=predList,y_true=labelList)"
   ]
  },
  {
   "cell_type": "code",
   "execution_count": 111,
   "metadata": {},
   "outputs": [
    {
     "data": {
      "text/plain": [
       "array([[6406,  173],\n",
       "       [ 176, 4247]])"
      ]
     },
     "execution_count": 111,
     "metadata": {},
     "output_type": "execute_result"
    }
   ],
   "source": [
    "confusion_matrix(predListAcc,labelList)"
   ]
  },
  {
   "cell_type": "code",
   "execution_count": 112,
   "metadata": {},
   "outputs": [
    {
     "data": {
      "text/plain": [
       "0.9682784948191238"
      ]
     },
     "execution_count": 112,
     "metadata": {},
     "output_type": "execute_result"
    }
   ],
   "source": [
    "accuracy_score(predListAcc, labelList)"
   ]
  },
  {
   "cell_type": "code",
   "execution_count": 113,
   "metadata": {},
   "outputs": [
    {
     "data": {
      "text/html": [
       "<div>\n",
       "<style scoped>\n",
       "    .dataframe tbody tr th:only-of-type {\n",
       "        vertical-align: middle;\n",
       "    }\n",
       "\n",
       "    .dataframe tbody tr th {\n",
       "        vertical-align: top;\n",
       "    }\n",
       "\n",
       "    .dataframe thead th {\n",
       "        text-align: right;\n",
       "    }\n",
       "</style>\n",
       "<table border=\"1\" class=\"dataframe\">\n",
       "  <thead>\n",
       "    <tr style=\"text-align: right;\">\n",
       "      <th></th>\n",
       "      <th>score</th>\n",
       "    </tr>\n",
       "  </thead>\n",
       "  <tbody>\n",
       "    <tr>\n",
       "      <th>0</th>\n",
       "      <td>1.0</td>\n",
       "    </tr>\n",
       "    <tr>\n",
       "      <th>1</th>\n",
       "      <td>1.0</td>\n",
       "    </tr>\n",
       "    <tr>\n",
       "      <th>2</th>\n",
       "      <td>0.0</td>\n",
       "    </tr>\n",
       "    <tr>\n",
       "      <th>3</th>\n",
       "      <td>0.0</td>\n",
       "    </tr>\n",
       "    <tr>\n",
       "      <th>4</th>\n",
       "      <td>0.0</td>\n",
       "    </tr>\n",
       "  </tbody>\n",
       "</table>\n",
       "</div>"
      ],
      "text/plain": [
       "   score\n",
       "0    1.0\n",
       "1    1.0\n",
       "2    0.0\n",
       "3    0.0\n",
       "4    0.0"
      ]
     },
     "execution_count": 113,
     "metadata": {},
     "output_type": "execute_result"
    }
   ],
   "source": [
    "df = pd.DataFrame({'score':predListAcc})\n",
    "df.head()"
   ]
  },
  {
   "cell_type": "code",
   "execution_count": 114,
   "metadata": {},
   "outputs": [],
   "source": [
    "df.to_csv(\"pred5_densnet18.csv\",index=False, index_label=False)"
   ]
  },
  {
   "cell_type": "code",
   "execution_count": null,
   "metadata": {},
   "outputs": [],
   "source": []
  },
  {
   "cell_type": "code",
   "execution_count": null,
   "metadata": {},
   "outputs": [],
   "source": []
  },
  {
   "cell_type": "markdown",
   "metadata": {},
   "source": [
    "### Test Time Augmentation"
   ]
  },
  {
   "cell_type": "code",
   "execution_count": 72,
   "metadata": {},
   "outputs": [],
   "source": [
    "def data_gen2(list_files, id_label_map, batch_size, augment=False):\n",
    "    seq = get_seq()\n",
    "    while True:\n",
    "#         shuffle(list_files)\n",
    "        for batch in chunker(list_files, batch_size):\n",
    "            \n",
    "            X = [cv2.imread(x) for x in batch]\n",
    "            Y = [id_label_map[get_id_from_file_path(x)] for x in batch]\n",
    "            if augment:\n",
    "                X = seq.augment_images(X)\n",
    "            X = np.array([preprocess_input(x) for x in X])\n",
    "            \n",
    "#             X  = X[:,32:64,32:64,:]\n",
    "                \n",
    "            return np.array(X), np.array(Y)"
   ]
  },
  {
   "cell_type": "code",
   "execution_count": 73,
   "metadata": {},
   "outputs": [
    {
     "name": "stderr",
     "output_type": "stream",
     "text": [
      "  0%|          | 2/11002 [00:00<57:45,  3.17it/s]  /opt/anaconda2/lib/python2.7/site-packages/skimage/segmentation/slic_superpixels.py:156: FutureWarning: Using a non-tuple sequence for multidimensional indexing is deprecated; use `arr[tuple(seq)]` instead of `arr[seq]`. In the future this will be interpreted as an array index, `arr[np.array(seq)]`, which will result either in an error or a different result.\n",
      "  segments_z = grid_z[slices]\n",
      "/opt/anaconda2/lib/python2.7/site-packages/skimage/segmentation/slic_superpixels.py:157: FutureWarning: Using a non-tuple sequence for multidimensional indexing is deprecated; use `arr[tuple(seq)]` instead of `arr[seq]`. In the future this will be interpreted as an array index, `arr[np.array(seq)]`, which will result either in an error or a different result.\n",
      "  segments_y = grid_y[slices]\n",
      "/opt/anaconda2/lib/python2.7/site-packages/skimage/segmentation/slic_superpixels.py:158: FutureWarning: Using a non-tuple sequence for multidimensional indexing is deprecated; use `arr[tuple(seq)]` instead of `arr[seq]`. In the future this will be interpreted as an array index, `arr[np.array(seq)]`, which will result either in an error or a different result.\n",
      "  segments_x = grid_x[slices]\n",
      "100%|██████████| 11002/11002 [51:04<00:00,  3.66it/s]\n"
     ]
    }
   ],
   "source": [
    "ttaSteps = 9\n",
    "\n",
    "predList = []\n",
    "labelList = []\n",
    "for i in tqdm(range(len(test))):\n",
    "    fileName = test[i]\n",
    "    \n",
    "    p=[]\n",
    "    for j in range(ttaSteps):\n",
    "        \n",
    "        x,y = data_gen2([fileName], id_label_map, batch_size=1, augment = True)\n",
    "        pred = fullModel.predict(x)\n",
    "        p.append(pred[0])\n",
    "    \n",
    "    \n",
    "    predList.append(p)\n",
    "    labelList.append(y)\n"
   ]
  },
  {
   "cell_type": "code",
   "execution_count": 77,
   "metadata": {},
   "outputs": [],
   "source": [
    "predList = np.array(predList).reshape((11002,9))\n"
   ]
  },
  {
   "cell_type": "code",
   "execution_count": 84,
   "metadata": {},
   "outputs": [],
   "source": [
    "labelList = np.array(labelList).reshape(-1)"
   ]
  },
  {
   "cell_type": "code",
   "execution_count": 79,
   "metadata": {},
   "outputs": [],
   "source": [
    "predListB = predList.copy()"
   ]
  },
  {
   "cell_type": "code",
   "execution_count": 80,
   "metadata": {},
   "outputs": [],
   "source": [
    "meanPredList = np.mean(predList, axis=1)"
   ]
  },
  {
   "cell_type": "code",
   "execution_count": 90,
   "metadata": {},
   "outputs": [
    {
     "data": {
      "text/plain": [
       "0.9917656958302569"
      ]
     },
     "execution_count": 90,
     "metadata": {},
     "output_type": "execute_result"
    }
   ],
   "source": [
    "roc_auc_score(labelList,meanPredList )"
   ]
  },
  {
   "cell_type": "code",
   "execution_count": 86,
   "metadata": {},
   "outputs": [
    {
     "data": {
      "text/plain": [
       "array([9.8904729e-01, 9.4599319e-01, 1.6004430e-01, ..., 8.2568685e-03,\n",
       "       6.7182415e-04, 5.6529962e-03], dtype=float32)"
      ]
     },
     "execution_count": 86,
     "metadata": {},
     "output_type": "execute_result"
    }
   ],
   "source": [
    "meanPredList"
   ]
  },
  {
   "cell_type": "code",
   "execution_count": 88,
   "metadata": {},
   "outputs": [],
   "source": [
    "labelList = labelList.astype('float')"
   ]
  },
  {
   "cell_type": "code",
   "execution_count": 121,
   "metadata": {},
   "outputs": [],
   "source": [
    "ind = predList>=0.5"
   ]
  },
  {
   "cell_type": "code",
   "execution_count": 114,
   "metadata": {},
   "outputs": [],
   "source": [
    "predListAcc = predList.copy()\n",
    "predListAcc[ind] = 1.0\n",
    "predListAcc[~ind] = 0.0"
   ]
  },
  {
   "cell_type": "code",
   "execution_count": 118,
   "metadata": {},
   "outputs": [],
   "source": [
    "finalPred = []\n",
    "for i in range(predListAcc.shape[0]):\n",
    "    \n",
    "    if np.sum(predListAcc[i,:])>=5:\n",
    "        out = 1\n",
    "    else:\n",
    "        out = 0\n",
    "    \n",
    "    finalPred.append(out)\n",
    "    \n",
    "finalPred = np.array(finalPred)    "
   ]
  },
  {
   "cell_type": "code",
   "execution_count": 119,
   "metadata": {},
   "outputs": [
    {
     "data": {
      "text/plain": [
       "0.9650063624795492"
      ]
     },
     "execution_count": 119,
     "metadata": {},
     "output_type": "execute_result"
    }
   ],
   "source": [
    "accuracy_score(finalPred, labelList)"
   ]
  },
  {
   "cell_type": "code",
   "execution_count": null,
   "metadata": {},
   "outputs": [],
   "source": []
  },
  {
   "cell_type": "markdown",
   "metadata": {},
   "source": [
    "### Ensembling"
   ]
  },
  {
   "cell_type": "code",
   "execution_count": 116,
   "metadata": {},
   "outputs": [],
   "source": [
    "df1 = pd.read_csv('pred1.csv')\n",
    "df2 = pd.read_csv('pred2_densnet18.csv')\n",
    "df3 = pd.read_csv('pred3_densnet1.csv')\n",
    "df4 = pd.read_csv('pred4_densnet7.csv')\n",
    "df5 = pd.read_csv('pred5_densnet18.csv')\n"
   ]
  },
  {
   "cell_type": "code",
   "execution_count": 123,
   "metadata": {},
   "outputs": [],
   "source": [
    "finaldf = pd.concat([df1,df2,df3,df4,df5],axis=1)\n",
    "finaldf.columns = ['score1','score2','score3','score4','score5']"
   ]
  },
  {
   "cell_type": "code",
   "execution_count": 157,
   "metadata": {},
   "outputs": [],
   "source": [
    "# finaldf['count'] = finaldf.apply(lambda x : np.sum(x),axis=1)\n",
    "\n",
    "finaldf['count'] = finaldf.apply(lambda x : 1*x.score1 + 1*x.score2 + 3*x.score3 + x.score4 + x.score5  ,axis=1)"
   ]
  },
  {
   "cell_type": "code",
   "execution_count": 158,
   "metadata": {},
   "outputs": [],
   "source": [
    "finaldf['pred'] = finaldf['count'].apply(lambda x : 1 if x>=5 else 0)"
   ]
  },
  {
   "cell_type": "code",
   "execution_count": 159,
   "metadata": {},
   "outputs": [
    {
     "data": {
      "text/plain": [
       "0.9689147427740411"
      ]
     },
     "execution_count": 159,
     "metadata": {},
     "output_type": "execute_result"
    }
   ],
   "source": [
    "\n",
    "accuracy_score(finaldf.pred, labelList)"
   ]
  },
  {
   "cell_type": "code",
   "execution_count": 160,
   "metadata": {},
   "outputs": [
    {
     "data": {
      "text/plain": [
       "198022"
      ]
     },
     "execution_count": 160,
     "metadata": {},
     "output_type": "execute_result"
    }
   ],
   "source": [
    "len(train)"
   ]
  },
  {
   "cell_type": "code",
   "execution_count": 161,
   "metadata": {},
   "outputs": [
    {
     "data": {
      "text/plain": [
       "220026"
      ]
     },
     "execution_count": 161,
     "metadata": {},
     "output_type": "execute_result"
    }
   ],
   "source": [
    "198022 + 11002 + 11002"
   ]
  },
  {
   "cell_type": "code",
   "execution_count": 162,
   "metadata": {},
   "outputs": [
    {
     "data": {
      "text/plain": [
       "array([[6434,  194],\n",
       "       [ 148, 4226]])"
      ]
     },
     "execution_count": 162,
     "metadata": {},
     "output_type": "execute_result"
    }
   ],
   "source": [
    "confusion_matrix(finaldf.pred,labelList)"
   ]
  },
  {
   "cell_type": "code",
   "execution_count": 164,
   "metadata": {},
   "outputs": [
    {
     "data": {
      "text/plain": [
       "0.9689147427740411"
      ]
     },
     "execution_count": 164,
     "metadata": {},
     "output_type": "execute_result"
    }
   ],
   "source": [
    "(6434+4226)/float((len(labelList)))"
   ]
  },
  {
   "cell_type": "code",
   "execution_count": 165,
   "metadata": {},
   "outputs": [],
   "source": [
    "import seaborn as sn\n",
    "import pandas as pd\n",
    "import matplotlib.pyplot as plt"
   ]
  },
  {
   "cell_type": "code",
   "execution_count": 169,
   "metadata": {},
   "outputs": [
    {
     "data": {
      "text/plain": [
       "<matplotlib.axes._subplots.AxesSubplot at 0x7f7e8702fb50>"
      ]
     },
     "execution_count": 169,
     "metadata": {},
     "output_type": "execute_result"
    },
    {
     "data": {
      "image/png": "[encoded data removed]",
      "text/plain": [
       "<Figure size 720x504 with 2 Axes>"
      ]
     },
     "metadata": {
      "needs_background": "light"
     },
     "output_type": "display_data"
    }
   ],
   "source": [
    "array = np.array([[6434,194],[148,4226]])\n",
    "df_cm = pd.DataFrame(array, index = [\"Not Cancer\",\"Cancer\"],\n",
    "                  columns = [\"Not Cancer\",\"Cancer\"])\n",
    "plt.figure(figsize = (10,7))\n",
    "sn.heatmap(df_cm, annot=True)\n"
   ]
  },
  {
   "cell_type": "code",
   "execution_count": null,
   "metadata": {},
   "outputs": [],
   "source": []
  }
 ],
 "metadata": {
  "kernelspec": {
   "display_name": "Python 3",
   "language": "python",
   "name": "python3"
  },
  "language_info": {
   "codemirror_mode": {
    "name": "ipython",
    "version": 3
   },
   "file_extension": ".py",
   "mimetype": "text/x-python",
   "name": "python",
   "nbconvert_exporter": "python",
   "pygments_lexer": "ipython3",
   "version": "3.6.10"
  }
 },
 "nbformat": 4,
 "nbformat_minor": 2
}
